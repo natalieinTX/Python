{
  "nbformat": 4,
  "nbformat_minor": 0,
  "metadata": {
    "colab": {
      "private_outputs": true,
      "provenance": [],
      "authorship_tag": "ABX9TyPkYbpmGEXYPDt/ZIsMFpDr"
    },
    "kernelspec": {
      "name": "python3",
      "display_name": "Python 3"
    },
    "language_info": {
      "name": "python"
    }
  },
  "cells": [
    {
      "cell_type": "code",
      "execution_count": null,
      "metadata": {
        "id": "73Wynl9FVZeM"
      },
      "outputs": [],
      "source": [
        "allegiances = {\n",
        "    \"Luke Skywalker\": \"Rebel Alliance\",\n",
        "    \"Darth Vader\": \"Galactic Empire\",\n",
        "    \"Obi-Wan Kenobi\": \"Jedi Order\"\n",
        "}"
      ]
    },
    {
      "cell_type": "code",
      "source": [
        "print(allegiances[\"Darth Vader\"])"
      ],
      "metadata": {
        "id": "inHasAtYX_YR"
      },
      "execution_count": null,
      "outputs": []
    },
    {
      "cell_type": "code",
      "source": [
        "allegiances[\"Darth Vader\"] = \"Sith Order\""
      ],
      "metadata": {
        "id": "NDZl1KkKYdPn"
      },
      "execution_count": null,
      "outputs": []
    },
    {
      "cell_type": "code",
      "source": [
        "print(allegiances[\"Darth Vader\"])"
      ],
      "metadata": {
        "id": "jCbzbw6vYiWn"
      },
      "execution_count": null,
      "outputs": []
    },
    {
      "cell_type": "code",
      "source": [
        "allegiances[\"Leia\"] = \"Rebel Alliance\""
      ],
      "metadata": {
        "id": "0CibmFRRYqPf"
      },
      "execution_count": null,
      "outputs": []
    },
    {
      "cell_type": "code",
      "source": [
        "allegiances"
      ],
      "metadata": {
        "id": "dRFAPONIYzTv"
      },
      "execution_count": null,
      "outputs": []
    },
    {
      "cell_type": "code",
      "source": [],
      "metadata": {
        "id": "qAMYnu_qY3nH"
      },
      "execution_count": null,
      "outputs": []
    }
  ]
}
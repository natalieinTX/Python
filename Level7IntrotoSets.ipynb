{
  "nbformat": 4,
  "nbformat_minor": 0,
  "metadata": {
    "colab": {
      "private_outputs": true,
      "provenance": [],
      "authorship_tag": "ABX9TyOzw+pqn1aOGMsj35dhW8PH"
    },
    "kernelspec": {
      "name": "python3",
      "display_name": "Python 3"
    },
    "language_info": {
      "name": "python"
    }
  },
  "cells": [
    {
      "cell_type": "markdown",
      "source": [
        "set1.add(5)"
      ],
      "metadata": {
        "id": "0CyDNnBYZuKI"
      }
    },
    {
      "cell_type": "code",
      "execution_count": null,
      "metadata": {
        "id": "W6SM78VAZBmG"
      },
      "outputs": [],
      "source": [
        "list1 = [1, 1, 2, 3, 4]\n",
        "list2 = [1, 2, 3, 4]"
      ]
    },
    {
      "cell_type": "code",
      "source": [
        "set1 = set(list1)"
      ],
      "metadata": {
        "id": "mXwOjhi3ZgI4"
      },
      "execution_count": null,
      "outputs": []
    },
    {
      "cell_type": "code",
      "source": [
        "set1.add(5)"
      ],
      "metadata": {
        "id": "KUW-1cJLZmXn"
      },
      "execution_count": null,
      "outputs": []
    },
    {
      "cell_type": "code",
      "source": [
        "set1.add(1)"
      ],
      "metadata": {
        "id": "BJJA3YfhZ713"
      },
      "execution_count": null,
      "outputs": []
    },
    {
      "cell_type": "code",
      "source": [
        "set1"
      ],
      "metadata": {
        "id": "IeXWnpGCZ_pH"
      },
      "execution_count": null,
      "outputs": []
    },
    {
      "cell_type": "code",
      "source": [
        "set1.difference(list2)"
      ],
      "metadata": {
        "id": "RQOeCMgMaE4I"
      },
      "execution_count": null,
      "outputs": []
    },
    {
      "cell_type": "code",
      "source": [
        "set1.intersection(list2)"
      ],
      "metadata": {
        "id": "fDeo9o3VaLL3"
      },
      "execution_count": null,
      "outputs": []
    },
    {
      "cell_type": "code",
      "source": [
        "set1.pop()"
      ],
      "metadata": {
        "id": "cNI2rI62aYzY"
      },
      "execution_count": null,
      "outputs": []
    },
    {
      "cell_type": "code",
      "source": [
        "set1.union(list2)"
      ],
      "metadata": {
        "id": "yoh8RMUHaeZ_"
      },
      "execution_count": null,
      "outputs": []
    },
    {
      "cell_type": "code",
      "source": [],
      "metadata": {
        "id": "rNRxcWA5apTv"
      },
      "execution_count": null,
      "outputs": []
    }
  ]
}
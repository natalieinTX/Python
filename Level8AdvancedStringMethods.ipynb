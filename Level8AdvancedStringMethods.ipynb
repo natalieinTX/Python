{
  "nbformat": 4,
  "nbformat_minor": 0,
  "metadata": {
    "colab": {
      "private_outputs": true,
      "provenance": [],
      "authorship_tag": "ABX9TyNfYI/X6MDadFAgZpGBBmGS"
    },
    "kernelspec": {
      "name": "python3",
      "display_name": "Python 3"
    },
    "language_info": {
      "name": "python"
    }
  },
  "cells": [
    {
      "cell_type": "code",
      "source": [
        "name = \"Darth Vader\"\n",
        "x = name.find(\"r\",6, 11)\n",
        "print(x)"
      ],
      "metadata": {
        "id": "DpSepsLWmgIA"
      },
      "execution_count": null,
      "outputs": []
    }
  ]
}
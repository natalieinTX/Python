{
  "nbformat": 4,
  "nbformat_minor": 0,
  "metadata": {
    "colab": {
      "private_outputs": true,
      "provenance": [],
      "authorship_tag": "ABX9TyO3AhWrcJWlid8VZl4b5Mey"
    },
    "kernelspec": {
      "name": "python3",
      "display_name": "Python 3"
    },
    "language_info": {
      "name": "python"
    }
  },
  "cells": [
    {
      "cell_type": "code",
      "source": [
        "name = \"    Natalie Wheeler    \"\n",
        "x = name.lstrip()\n",
        "print(x+\"end\")"
      ],
      "metadata": {
        "id": "9tj9o1V0lLTi"
      },
      "execution_count": null,
      "outputs": []
    }
  ]
}
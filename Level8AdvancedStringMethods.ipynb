{
  "nbformat": 4,
  "nbformat_minor": 0,
  "metadata": {
    "colab": {
      "private_outputs": true,
      "provenance": [],
      "authorship_tag": "ABX9TyOFtZeo/NZKId6SeJIxQkj0"
    },
    "kernelspec": {
      "name": "python3",
      "display_name": "Python 3"
    },
    "language_info": {
      "name": "python"
    }
  },
  "cells": [
    {
      "cell_type": "code",
      "source": [
        "name = (\"Natalie\", \"Wheeler\")\n",
        "print(type(name))\n",
        "x = \"Natalie\".join(name)\n",
        "print(x)"
      ],
      "metadata": {
        "id": "CtP46PVDkPg5"
      },
      "execution_count": null,
      "outputs": []
    }
  ]
}
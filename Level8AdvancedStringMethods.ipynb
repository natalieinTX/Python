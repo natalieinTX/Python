{
  "nbformat": 4,
  "nbformat_minor": 0,
  "metadata": {
    "colab": {
      "private_outputs": true,
      "provenance": [],
      "authorship_tag": "ABX9TyNCTaA2AK+vF6K+EJfNE3IQ"
    },
    "kernelspec": {
      "name": "python3",
      "display_name": "Python 3"
    },
    "language_info": {
      "name": "python"
    }
  },
  "cells": [
    {
      "cell_type": "code",
      "execution_count": null,
      "metadata": {
        "id": "Ck7TGyXxjic7"
      },
      "outputs": [],
      "source": [
        "name = \"Darth Vader\"\n",
        "x = name.split(\" \")\n",
        "print(x)\n",
        "print(type(x))"
      ]
    },
    {
      "cell_type": "code",
      "source": [
        "name = \"adadad\\adafda\\adadf\"\n",
        "x = name.splitlines\n",
        "print(x)\n",
        "print(type(x))"
      ],
      "metadata": {
        "id": "1_YGdck0j8AT"
      },
      "execution_count": null,
      "outputs": []
    },
    {
      "cell_type": "code",
      "source": [],
      "metadata": {
        "id": "CtP46PVDkPg5"
      },
      "execution_count": null,
      "outputs": []
    }
  ]
}
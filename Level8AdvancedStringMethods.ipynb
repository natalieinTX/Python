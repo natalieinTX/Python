{
  "nbformat": 4,
  "nbformat_minor": 0,
  "metadata": {
    "colab": {
      "private_outputs": true,
      "provenance": [],
      "authorship_tag": "ABX9TyNatGremoJ4vhm+7J3nLamk"
    },
    "kernelspec": {
      "name": "python3",
      "display_name": "Python 3"
    },
    "language_info": {
      "name": "python"
    }
  },
  "cells": [
    {
      "cell_type": "code",
      "source": [
        "name = \"Darth Vader\"\n",
        "x = name.find(\"D\")\n",
        "print(x)"
      ],
      "metadata": {
        "id": "nSZVUA1lmQJS"
      },
      "execution_count": null,
      "outputs": []
    }
  ]
}
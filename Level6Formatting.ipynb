{
  "nbformat": 4,
  "nbformat_minor": 0,
  "metadata": {
    "colab": {
      "private_outputs": true,
      "provenance": [],
      "authorship_tag": "ABX9TyPxzqRyU++uKl7Nao2O9o/g"
    },
    "kernelspec": {
      "name": "python3",
      "display_name": "Python 3"
    },
    "language_info": {
      "name": "python"
    }
  },
  "cells": [
    {
      "cell_type": "code",
      "execution_count": null,
      "metadata": {
        "id": "f7gYeVCB1yql"
      },
      "outputs": [],
      "source": [
        "ticket = input(\"What class of ticket do you want to buy for the Titanic? Select 1 or 3\\n\")\n",
        "print(f\"You selected class number {ticket}\")\n",
        "if ticket == \"1\":\n",
        "  price=870\n",
        "else:\n",
        "  price=7\n",
        "\n",
        "print(f\"The price is {price:.3f} pounds\")"
      ]
    },
    {
      "cell_type": "code",
      "source": [
        "first_class_ticket_count = input(\"How many first class tickets do you want to purchase? \")\n",
        "second_class_ticket_count = input(\"How many second class tickets do you want to purchase? \")\n",
        "third_class_ticket_count = input(\"How many third class tickets do you want to purchase? \")\n",
        "\n",
        "total_cost = int(first_class_ticket_count)*870 +int(second_class_ticket_count)*100.42 +int(third_class_ticket_count)*7\n",
        "\n",
        "print(f\"The total cost is {total_cost:.2f}.\")\n",
        "\n"
      ],
      "metadata": {
        "id": "X4n25xu24ji1"
      },
      "execution_count": null,
      "outputs": []
    },
    {
      "cell_type": "code",
      "source": [],
      "metadata": {
        "id": "9MgqvdYk5Xox"
      },
      "execution_count": null,
      "outputs": []
    }
  ]
}
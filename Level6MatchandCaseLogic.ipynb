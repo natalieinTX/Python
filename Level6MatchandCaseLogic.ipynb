{
  "nbformat": 4,
  "nbformat_minor": 0,
  "metadata": {
    "colab": {
      "private_outputs": true,
      "provenance": [],
      "authorship_tag": "ABX9TyMlM+E6TZhjM9GhWNhd/Kpk"
    },
    "kernelspec": {
      "name": "python3",
      "display_name": "Python 3"
    },
    "language_info": {
      "name": "python"
    }
  },
  "cells": [
    {
      "cell_type": "code",
      "execution_count": null,
      "metadata": {
        "id": "KNcQfHfzwu7M"
      },
      "outputs": [],
      "source": [
        "army_size = input(\"How many characters are in the army? Please only enter 1, 2, or 3?\")\n",
        "if army_size == \"1\":\n",
        "  print(\"The army of 1 will lose to the army of 2 and the army of 3.\")\n",
        "elif army_size == \"2\":\n",
        "  print(\"The army of 2 will beat the army of 1, but lose to the army of 3.\")\n",
        "elif army_size == \"3\":\n",
        "  print(\"The army of 3 beats the army of 2 and the army of 1.\")\n",
        "#else:\n",
        "#   print(\"Please only enter 1, 2, or 3\")\n",
        "elif army_size != \"1\" or \"2\" or \"3\":\n",
        "  print(\"Please only enter 1, 2, or 3\")\n",
        "army_size =int(army_size)\n",
        "print(\"The cost of the army is \"+str(army_size*10))\n",
        "\n",
        "if army_size == 1 or army_size == 3:\n",
        "  print(\"There is an odd number of characters in the army that you selected.\")\n",
        "else:\n",
        "  print(\"There is an even number of characters in the army that you selected.\")\n",
        "\n",
        "good_or_not_good = input(\"Type good or not good\")\n",
        "\n",
        "#if good_or_not_good ==\"good\" and army_size ==1:\n",
        "#  print(\"You selecrted an army of 1 and C3PO, which is good.\")\n",
        "#else:\n",
        "#  print(\"You did not select an army size of 1 AND good.\")\n",
        "\n",
        "match good_or_not_good:\n",
        "  case \"good\":\n",
        "    match army_size:\n",
        "      case 1:\n",
        "        print(\"good 1\")\n",
        "      case 2:\n",
        "        print(\"good 2\")\n",
        "      case 3:\n",
        "        print(\"good 3\")\n",
        "  case \"not good\":\n",
        "     match army_size:\n",
        "      case 1:\n",
        "        print(\"not good 1\")\n",
        "      case 2:\n",
        "        print(\"not good 2\")\n",
        "      case 3:\n",
        "        print(\"not good 3\")\n",
        "\n"
      ]
    },
    {
      "cell_type": "code",
      "source": [
        "team_selection = input(\"Please select a team. \")\n",
        "\n",
        "match team_selection:\n",
        "  case \"1\":\n",
        "    print(\"You selected Team 1\")\n",
        "  case \"2\":\n",
        "    print(\"You selected Team 2\")\n",
        "  case \"3\":\n",
        "    print(\"You selected Team 3\")\n"
      ],
      "metadata": {
        "id": "H1G2NxdEyexF"
      },
      "execution_count": null,
      "outputs": []
    },
    {
      "cell_type": "code",
      "source": [],
      "metadata": {
        "id": "xexllz6g1imi"
      },
      "execution_count": null,
      "outputs": []
    }
  ]
}
{
  "nbformat": 4,
  "nbformat_minor": 0,
  "metadata": {
    "colab": {
      "provenance": [],
      "authorship_tag": "ABX9TyNdAv1efKZd9M+VEeQirCDv"
    },
    "kernelspec": {
      "name": "python3",
      "display_name": "Python 3"
    },
    "language_info": {
      "name": "python"
    }
  },
  "cells": [
    {
      "cell_type": "code",
      "execution_count": 3,
      "metadata": {
        "colab": {
          "base_uri": "https://localhost:8080/"
        },
        "id": "nwBidGz88Ort",
        "outputId": "2f3441b8-88d9-41b8-b1ae-ea4e9bfde2a6"
      },
      "outputs": [
        {
          "output_type": "stream",
          "name": "stdout",
          "text": [
            "3\n",
            "<class 'int'>\n"
          ]
        }
      ],
      "source": [
        "a=1\n",
        "b=2\n",
        "c=3\n",
        "# minimum_value =min(a,b,c)\n",
        "print(max(a,b,c))\n",
        "print(type(c))"
      ]
    },
    {
      "cell_type": "code",
      "source": [
        "a = -7.6\n",
        "a = abs(a)\n",
        "print(a)"
      ],
      "metadata": {
        "colab": {
          "base_uri": "https://localhost:8080/"
        },
        "id": "VB3GavCe9UPR",
        "outputId": "9490a327-00ae-45e8-ceca-c6e416ae4a89"
      },
      "execution_count": 4,
      "outputs": [
        {
          "output_type": "stream",
          "name": "stdout",
          "text": [
            "7.6\n"
          ]
        }
      ]
    },
    {
      "cell_type": "code",
      "source": [
        "a = -7.6\n",
        "a = round(a)\n",
        "print(a)"
      ],
      "metadata": {
        "colab": {
          "base_uri": "https://localhost:8080/"
        },
        "id": "lgyHiJQx9eSg",
        "outputId": "4815b7eb-6338-4c42-bb23-4e26df56208b"
      },
      "execution_count": 5,
      "outputs": [
        {
          "output_type": "stream",
          "name": "stdout",
          "text": [
            "-8\n"
          ]
        }
      ]
    },
    {
      "cell_type": "code",
      "source": [
        "height_ahsoka= 1.7\n",
        "height_yoda= 0.66\n",
        "height_r2d2= 1.09\n",
        "average_height = (height_ahsoka+height_yoda+height_r2d2)/3\n",
        "maximum_height = max(height_ahsoka,height_yoda,height_r2d2)\n",
        "minimum_height = max(height_ahsoka,height_yoda, height_r2d2)\n",
        "print(\"The average height is \"+str(average_height)+\". The maximum height is \"+str(minimum_height))\n"
      ],
      "metadata": {
        "colab": {
          "base_uri": "https://localhost:8080/"
        },
        "id": "D_Mp0YhY9rgJ",
        "outputId": "2c9bb8c8-3af7-415f-8971-9e358923118f"
      },
      "execution_count": 9,
      "outputs": [
        {
          "output_type": "stream",
          "name": "stdout",
          "text": [
            "The average height is 1.1500000000000001. The maximum height is 1.7\n"
          ]
        }
      ]
    }
  ]
}
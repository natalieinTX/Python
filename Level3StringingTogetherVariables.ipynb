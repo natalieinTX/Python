{
  "nbformat": 4,
  "nbformat_minor": 0,
  "metadata": {
    "colab": {
      "provenance": [],
      "authorship_tag": "ABX9TyOefwbXvPy/lUhxuu8XJmuP",
      "include_colab_link": true
    },
    "kernelspec": {
      "name": "python3",
      "display_name": "Python 3"
    },
    "language_info": {
      "name": "python"
    }
  },
  "cells": [
    {
      "cell_type": "markdown",
      "metadata": {
        "id": "view-in-github",
        "colab_type": "text"
      },
      "source": [
        "<a href=\"https://colab.research.google.com/github/natalieinTX/Python/blob/main/Level3StringingTogetherVariables.ipynb\" target=\"_parent\"><img src=\"https://colab.research.google.com/assets/colab-badge.svg\" alt=\"Open In Colab\"/></a>"
      ]
    },
    {
      "cell_type": "code",
      "execution_count": 10,
      "metadata": {
        "colab": {
          "base_uri": "https://localhost:8080/"
        },
        "id": "zseWEK2c3V9_",
        "outputId": "90f0bd5a-dec2-42a2-d689-709883eb0008"
      },
      "outputs": [
        {
          "output_type": "stream",
          "name": "stdout",
          "text": [
            "Your name is Yoda\n",
            "your name, height, and age is Yoda, 0.66 and age is 900\n",
            "<class 'str'>\n",
            "<class 'float'>\n",
            "<class 'int'>\n"
          ]
        }
      ],
      "source": [
        "name = \"Yoda\"\n",
        "print(\"Your name is \"+name)\n",
        "height = 0.66\n",
        "age = 900\n",
        "print(\"your name, height, and age is \"+name+\", \"+str(height)+\" and age is \"+str(age))\n",
        "print(type(name))\n",
        "print(type(height))\n",
        "print(type(age))"
      ]
    }
  ]
}
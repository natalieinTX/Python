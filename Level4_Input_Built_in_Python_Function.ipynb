{
  "nbformat": 4,
  "nbformat_minor": 0,
  "metadata": {
    "colab": {
      "provenance": [],
      "authorship_tag": "ABX9TyPlztARNmd6rzkOImz+koRw"
    },
    "kernelspec": {
      "name": "python3",
      "display_name": "Python 3"
    },
    "language_info": {
      "name": "python"
    }
  },
  "cells": [
    {
      "cell_type": "code",
      "execution_count": null,
      "metadata": {
        "id": "ZHM_MLF4_eza"
      },
      "outputs": [],
      "source": [
        "name = input(\"What is your name?\")"
      ]
    },
    {
      "cell_type": "code",
      "source": [
        "name = input(\"What is your name? \")\n",
        "height = input(\"What is your height? \")\n",
        "age = input(\"What is your age? \")\n",
        "print(\"Your name, height, and age is: \"+name+\", \"+height+\" and \"+age+\" respectively.\")"
      ],
      "metadata": {
        "colab": {
          "base_uri": "https://localhost:8080/"
        },
        "id": "iJfk6oHw__bd",
        "outputId": "a991dbe0-0416-4a40-f546-f4d028d12317"
      },
      "execution_count": 5,
      "outputs": [
        {
          "output_type": "stream",
          "name": "stdout",
          "text": [
            "What is your name?  Natalie\n",
            "What is your height?  5' 4\"\n",
            "What is your age?  Thankful\n",
            "Your name, height, and age is:  Natalie,  5' 4\" and  Thankful respectively.\n"
          ]
        }
      ]
    },
    {
      "cell_type": "code",
      "source": [],
      "metadata": {
        "id": "8VbFe8QVA2wI"
      },
      "execution_count": 4,
      "outputs": []
    }
  ]
}
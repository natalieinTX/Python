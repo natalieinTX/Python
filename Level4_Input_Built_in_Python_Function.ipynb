{
  "nbformat": 4,
  "nbformat_minor": 0,
  "metadata": {
    "colab": {
      "provenance": [],
      "authorship_tag": "ABX9TyPlztARNmd6rzkOImz+koRw"
    },
    "kernelspec": {
      "name": "python3",
      "display_name": "Python 3"
    },
    "language_info": {
      "name": "python"
    }
  },
  "cells": [
    {
      "cell_type": "code",
      "execution_count": 3,
      "metadata": {
        "colab": {
          "base_uri": "https://localhost:8080/",
          "height": 0
        },
        "id": "ZHM_MLF4_eza",
        "outputId": "201ec11f-dff0-4e07-c049-e5f960115244"
      },
      "outputs": [
        {
          "name": "stdout",
          "output_type": "stream",
          "text": [
            " What is your name? Natalie\n"
          ]
        }
      ],
      "source": [
        "name = input(\"What is your name?\")"
      ]
    },
    {
      "cell_type": "code",
      "source": [
        "name = input(\"What is your name? \")\n",
        "height = input(\"What is your height? \")\n",
        "age = input(\"What is your age? \")\n",
        "print(\"Your name, height, and age is: \"+name+\", \"+height+\" and \"+age+\" respectively.\")"
      ],
      "metadata": {
        "colab": {
          "base_uri": "https://localhost:8080/",
          "height": 0
        },
        "id": "iJfk6oHw__bd",
        "outputId": "bcc058db-e32a-4b81-cc76-54f9ae773c25"
      },
      "execution_count": 4,
      "outputs": [
        {
          "output_type": "stream",
          "name": "stdout",
          "text": [
            "What is your name?  Natalie\n",
            "What is your height?  5 feet four inches\n",
            "What is your age?  42\n",
            "Your name, height, and age is:  Natalie,  5 feet four inches and  42 respectively.\n"
          ]
        }
      ]
    },
    {
      "cell_type": "code",
      "source": [],
      "metadata": {
        "id": "8VbFe8QVA2wI"
      },
      "execution_count": 4,
      "outputs": []
    }
  ]
}
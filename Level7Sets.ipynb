{
  "nbformat": 4,
  "nbformat_minor": 0,
  "metadata": {
    "colab": {
      "private_outputs": true,
      "provenance": [],
      "authorship_tag": "ABX9TyPh/6dscHFfVypleQ2NC8cv"
    },
    "kernelspec": {
      "name": "python3",
      "display_name": "Python 3"
    },
    "language_info": {
      "name": "python"
    }
  },
  "cells": [
    {
      "cell_type": "code",
      "execution_count": null,
      "metadata": {
        "id": "FANzUkJQbFR3"
      },
      "outputs": [],
      "source": [
        "storm_troopers_group1 =[\"trooper_1\", \"trooper_2\", \"trooper_3\", \"trooper_4\"]\n",
        "storm_troopers_group2 =[\"trooper_5\", \"trooper_2\", \"trooper_34\", \"trooper_46\"]"
      ]
    },
    {
      "cell_type": "code",
      "source": [
        "set(storm_troopers_group1)"
      ],
      "metadata": {
        "id": "rQraRxlEbhoQ"
      },
      "execution_count": null,
      "outputs": []
    },
    {
      "cell_type": "code",
      "source": [
        "set(storm_troopers_group1).intersection(set(storm_troopers_group2))"
      ],
      "metadata": {
        "id": "1lQI1Btfb0AG"
      },
      "execution_count": null,
      "outputs": []
    },
    {
      "cell_type": "code",
      "source": [
        "print(set())"
      ],
      "metadata": {
        "id": "wZLsdrXWcBQ_"
      },
      "execution_count": null,
      "outputs": []
    }
  ]
}
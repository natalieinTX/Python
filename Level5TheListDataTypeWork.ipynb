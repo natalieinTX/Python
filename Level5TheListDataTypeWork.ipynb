{
  "nbformat": 4,
  "nbformat_minor": 0,
  "metadata": {
    "colab": {
      "provenance": [],
      "authorship_tag": "ABX9TyMeFJB2RK2MhYbjUurRYe80"
    },
    "kernelspec": {
      "name": "python3",
      "display_name": "Python 3"
    },
    "language_info": {
      "name": "python"
    }
  },
  "cells": [
    {
      "cell_type": "code",
      "execution_count": 1,
      "metadata": {
        "colab": {
          "base_uri": "https://localhost:8080/"
        },
        "id": "A8dhf3p8bxRN",
        "outputId": "1ed72bbf-9dde-4aea-87ec-572f6d3e3266"
      },
      "outputs": [
        {
          "output_type": "stream",
          "name": "stdout",
          "text": [
            "<class 'list'>\n",
            "3.45\n"
          ]
        }
      ],
      "source": [
        "height = [1.7,0.66,1.09]\n",
        "print(type(height))\n",
        "print(sum(height))"
      ]
    }
  ]
}
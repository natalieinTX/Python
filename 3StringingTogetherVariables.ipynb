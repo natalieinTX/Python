{
  "nbformat": 4,
  "nbformat_minor": 0,
  "metadata": {
    "colab": {
      "provenance": [],
      "authorship_tag": "ABX9TyN/IeUwBwUiCVE1Tr7NTYpZ"
    },
    "kernelspec": {
      "name": "python3",
      "display_name": "Python 3"
    },
    "language_info": {
      "name": "python"
    }
  },
  "cells": [
    {
      "cell_type": "code",
      "execution_count": 5,
      "metadata": {
        "colab": {
          "base_uri": "https://localhost:8080/"
        },
        "id": "iLA-Q5O75HDz",
        "outputId": "8fe9a73c-3468-4285-ad52-aa0bdbd7bcfd"
      },
      "outputs": [
        {
          "output_type": "stream",
          "name": "stdout",
          "text": [
            "Jack and Rose were on the Titanic in 1912\n"
          ]
        }
      ],
      "source": [
        "name1= \"Jack\"\n",
        "name1 = \"Jack\"\n",
        "name2 = \"Rose\"\n",
        "year = 1912\n",
        "print(name1 + \" and \" + name2 + \" were on the Titanic in \" + str(year))"
      ]
    }
  ]
}
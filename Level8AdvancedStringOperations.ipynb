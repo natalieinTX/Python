{
  "nbformat": 4,
  "nbformat_minor": 0,
  "metadata": {
    "colab": {
      "private_outputs": true,
      "provenance": [],
      "authorship_tag": "ABX9TyMN2nqKbvJQkhS0UR2pQyQ6"
    },
    "kernelspec": {
      "name": "python3",
      "display_name": "Python 3"
    },
    "language_info": {
      "name": "python"
    }
  },
  "cells": [
    {
      "cell_type": "code",
      "source": [
        "name = \"Luke Skywalker\"\n",
        "x = name.replace(\"Luke\", \"Anakin\")\n",
        "print(x)"
      ],
      "metadata": {
        "id": "dXtXb2XSnhTC"
      },
      "execution_count": null,
      "outputs": []
    }
  ]
}
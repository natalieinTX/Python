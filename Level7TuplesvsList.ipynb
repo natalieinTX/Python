{
  "nbformat": 4,
  "nbformat_minor": 0,
  "metadata": {
    "colab": {
      "private_outputs": true,
      "provenance": [],
      "authorship_tag": "ABX9TyMZPu+WyUNLqmWo0WQAfwCv"
    },
    "kernelspec": {
      "name": "python3",
      "display_name": "Python 3"
    },
    "language_info": {
      "name": "python"
    }
  },
  "cells": [
    {
      "cell_type": "code",
      "execution_count": null,
      "metadata": {
        "id": "78mjHFB2MKXZ"
      },
      "outputs": [],
      "source": [
        "list1 = [1, 2, 3, 4]\n",
        "list1[3]\n"
      ]
    },
    {
      "cell_type": "code",
      "source": [
        "list1[3] = 10"
      ],
      "metadata": {
        "id": "eG3Vt0RkNGwL"
      },
      "execution_count": null,
      "outputs": []
    },
    {
      "cell_type": "code",
      "source": [
        "list1"
      ],
      "metadata": {
        "id": "PJArXPFyNSYw"
      },
      "execution_count": null,
      "outputs": []
    },
    {
      "cell_type": "code",
      "source": [
        "tuple1 = (1, 2, 3, 4)"
      ],
      "metadata": {
        "id": "I-49TFVlNeuR"
      },
      "execution_count": null,
      "outputs": []
    },
    {
      "cell_type": "code",
      "source": [
        "tuple[3]"
      ],
      "metadata": {
        "id": "4VfffWU7Nnmv"
      },
      "execution_count": null,
      "outputs": []
    },
    {
      "cell_type": "code",
      "source": [
        "tuple1[3] = 10"
      ],
      "metadata": {
        "id": "5-1oi8j5NqY3"
      },
      "execution_count": null,
      "outputs": []
    },
    {
      "cell_type": "code",
      "source": [
        "user = (\"Luka\", \"luka@gmail.com\", \"321512131\")"
      ],
      "metadata": {
        "id": "OfJ0-EjeN2Du"
      },
      "execution_count": null,
      "outputs": []
    },
    {
      "cell_type": "code",
      "source": [
        "user.count(\"Mark\")"
      ],
      "metadata": {
        "id": "MQYlmTzyOB1I"
      },
      "execution_count": null,
      "outputs": []
    },
    {
      "cell_type": "code",
      "source": [
        "for element in user:\n",
        "  print(element)"
      ],
      "metadata": {
        "id": "4UAxstWWOcMq"
      },
      "execution_count": null,
      "outputs": []
    },
    {
      "cell_type": "code",
      "source": [
        "starting_tuple = (\"Yoda\", \"Hans Solo\", \"R2D2\", \"C3PO\")"
      ],
      "metadata": {
        "id": "5uYo-hOsOjkt"
      },
      "execution_count": null,
      "outputs": []
    },
    {
      "cell_type": "code",
      "source": [
        "forgotten_character = \"Darth Vader\""
      ],
      "metadata": {
        "id": "Tnpa5wgpO-nX"
      },
      "execution_count": null,
      "outputs": []
    },
    {
      "cell_type": "code",
      "source": [
        "starting_tuple = list(starting_tuple)\n",
        "starting_tuple.append(forgotten_character)\n",
        "starting_tuple = tuple(starting_tuple)"
      ],
      "metadata": {
        "id": "G1Wnhuh0Pwwz"
      },
      "execution_count": null,
      "outputs": []
    },
    {
      "cell_type": "code",
      "source": [
        "starting_tuple"
      ],
      "metadata": {
        "id": "0XyeFIpSP6xA"
      },
      "execution_count": null,
      "outputs": []
    },
    {
      "cell_type": "code",
      "source": [],
      "metadata": {
        "id": "VPBHSHIVQDBU"
      },
      "execution_count": null,
      "outputs": []
    }
  ]
}
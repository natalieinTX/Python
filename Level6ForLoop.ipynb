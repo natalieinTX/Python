{
  "nbformat": 4,
  "nbformat_minor": 0,
  "metadata": {
    "colab": {
      "private_outputs": true,
      "provenance": [],
      "authorship_tag": "ABX9TyNfx3WAVn2zS/xyb6nVicrf"
    },
    "kernelspec": {
      "name": "python3",
      "display_name": "Python 3"
    },
    "language_info": {
      "name": "python"
    }
  },
  "cells": [
    {
      "cell_type": "code",
      "execution_count": null,
      "metadata": {
        "id": "23UW4aQR8vEr"
      },
      "outputs": [],
      "source": [
        "jedis =[\"Darth Vader\", \"Rey\", \"Yoda\", \"Leia\", \"Mr. Skywalker\", \"Ahsoka\"]\n",
        "\n",
        "for camera in jedis:\n",
        "  print(camera +\" is a jedi.\")"
      ]
    },
    {
      "cell_type": "code",
      "source": [
        "for x in range(1,10):\n",
        "  print(x)\n",
        "\n"
      ],
      "metadata": {
        "id": "8Ny-0D5caNYu"
      },
      "execution_count": null,
      "outputs": []
    },
    {
      "cell_type": "code",
      "source": [
        "kids = [\"Leia\", \"Luke\"]\n",
        "for x in kids:\n",
        "  print(x+\" I am your father, nooooo\")"
      ],
      "metadata": {
        "id": "hoCh12Lo7Uzw"
      },
      "execution_count": null,
      "outputs": []
    }
  ]
}
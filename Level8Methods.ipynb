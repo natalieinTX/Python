{
  "nbformat": 4,
  "nbformat_minor": 0,
  "metadata": {
    "colab": {
      "private_outputs": true,
      "provenance": [],
      "authorship_tag": "ABX9TyPkbveEbccGp1YIUhb6Jp1B"
    },
    "kernelspec": {
      "name": "python3",
      "display_name": "Python 3"
    },
    "language_info": {
      "name": "python"
    }
  },
  "cells": [
    {
      "cell_type": "code",
      "execution_count": null,
      "metadata": {
        "id": "U9WyQbu7mXZf"
      },
      "outputs": [],
      "source": [
        "name = str(\"Rey\")"
      ]
    },
    {
      "cell_type": "code",
      "source": [
        "print(name.upper())"
      ],
      "metadata": {
        "id": "ATUj6gju5KLz"
      },
      "execution_count": null,
      "outputs": []
    },
    {
      "cell_type": "code",
      "source": [
        "name = str(\"rEy\")\n",
        "print(name.count(\"y\"))\n",
        "dir(name)"
      ],
      "metadata": {
        "id": "L_ZyiYgL5tC2"
      },
      "execution_count": null,
      "outputs": []
    },
    {
      "cell_type": "code",
      "source": [],
      "metadata": {
        "id": "No5g4ecL53Zn"
      },
      "execution_count": null,
      "outputs": []
    }
  ]
}
{
  "nbformat": 4,
  "nbformat_minor": 0,
  "metadata": {
    "colab": {
      "private_outputs": true,
      "provenance": [],
      "authorship_tag": "ABX9TyOvtTtTpbIDYANjplAyTlxs"
    },
    "kernelspec": {
      "name": "python3",
      "display_name": "Python 3"
    },
    "language_info": {
      "name": "python"
    }
  },
  "cells": [
    {
      "cell_type": "code",
      "execution_count": null,
      "metadata": {
        "id": "YZiUjc9o6now"
      },
      "outputs": [],
      "source": [
        "name = \"c3po\"\n",
        "print(name.replace(\"c3pO\",\"r2d2\"))"
      ]
    }
  ]
}
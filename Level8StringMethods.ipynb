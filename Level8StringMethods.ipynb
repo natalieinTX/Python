{
  "nbformat": 4,
  "nbformat_minor": 0,
  "metadata": {
    "colab": {
      "private_outputs": true,
      "provenance": [],
      "authorship_tag": "ABX9TyOybYuMf4twybSDiUgCg8ed"
    },
    "kernelspec": {
      "name": "python3",
      "display_name": "Python 3"
    },
    "language_info": {
      "name": "python"
    }
  },
  "cells": [
    {
      "cell_type": "code",
      "execution_count": null,
      "metadata": {
        "id": "5_6ICzFig3ZK"
      },
      "outputs": [],
      "source": [
        "name = \"Natalie Wheeler\"\n",
        "print(name.upper())\n",
        "print(name)\n",
        "name.isspace()"
      ]
    },
    {
      "cell_type": "code",
      "source": [],
      "metadata": {
        "id": "ZtCzQl9YhJFU"
      },
      "execution_count": null,
      "outputs": []
    }
  ]
}
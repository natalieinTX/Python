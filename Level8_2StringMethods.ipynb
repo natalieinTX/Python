{
  "nbformat": 4,
  "nbformat_minor": 0,
  "metadata": {
    "colab": {
      "private_outputs": true,
      "provenance": [],
      "authorship_tag": "ABX9TyNNOxkfHRrh+aBGyGF5XM6T"
    },
    "kernelspec": {
      "name": "python3",
      "display_name": "Python 3"
    },
    "language_info": {
      "name": "python"
    }
  },
  "cells": [
    {
      "cell_type": "code",
      "execution_count": null,
      "metadata": {
        "id": "7dwpkf98i19z"
      },
      "outputs": [],
      "source": [
        "jacks_name= \"Jack\"\n",
        "empty_glass_case =\" \"\n",
        "jacks_name.isalpha()\n",
        "x= jacks_name.isalpha()\n",
        "y = empty_glass_case.isspace()\n",
        "print(x,y)"
      ]
    }
  ]
}
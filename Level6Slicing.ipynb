{
  "nbformat": 4,
  "nbformat_minor": 0,
  "metadata": {
    "colab": {
      "private_outputs": true,
      "provenance": [],
      "authorship_tag": "ABX9TyOiUL0+9WP46wzN1HnOQ/tu"
    },
    "kernelspec": {
      "name": "python3",
      "display_name": "Python 3"
    },
    "language_info": {
      "name": "python"
    }
  },
  "cells": [
    {
      "cell_type": "code",
      "execution_count": null,
      "metadata": {
        "id": "5eOScKZb5krJ"
      },
      "outputs": [],
      "source": [
        "full_name = \"James Bond\"\n",
        "first_name = full_name[-1] # this means that we take the first 5 characters\n",
        "last_name = full_name[6:] # this means that we take just the last 4 characters\n",
        "print(f\"The name is {first_name} {last_name}\")\n"
      ]
    },
    {
      "cell_type": "code",
      "source": [
        "name = \"Titanic\"\n",
        "print(name[6])\n",
        "print(name[6:])"
      ],
      "metadata": {
        "id": "e_L0PIef8OHo"
      },
      "execution_count": null,
      "outputs": []
    }
  ]
}
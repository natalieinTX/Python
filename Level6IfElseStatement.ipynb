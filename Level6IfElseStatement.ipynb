{
  "nbformat": 4,
  "nbformat_minor": 0,
  "metadata": {
    "colab": {
      "private_outputs": true,
      "provenance": [],
      "authorship_tag": "ABX9TyN8Say23FfLDxhkI5sMWUgu"
    },
    "kernelspec": {
      "name": "python3",
      "display_name": "Python 3"
    },
    "language_info": {
      "name": "python"
    }
  },
  "cells": [
    {
      "cell_type": "code",
      "execution_count": null,
      "metadata": {
        "id": "G_19x6IAkHYM"
      },
      "outputs": [],
      "source": [
        "name = input(\"What is the name of the Star Wars character? \")\n",
        "jedi_test = input(\"Is the character holding a lightsaber?\")\n",
        "\n",
        "if jedi_test == \"Yes\":\n",
        "  print(name+ \" is a jedi.\")\n",
        "else:\n",
        "  print(name+\" is not a jedi.\")"
      ]
    },
    {
      "cell_type": "code",
      "source": [
        "question = input(\"Is Rose holding a lightsaber?\")\n",
        "if question == \"Yes\":\n",
        "  print(\"Yes\")\n",
        "else:\n",
        "  print(\"No\")"
      ],
      "metadata": {
        "id": "JLGjxyWwmUZf"
      },
      "execution_count": null,
      "outputs": []
    },
    {
      "cell_type": "code",
      "source": [
        "jedi_test = input(\"Is the character holding a lightsaber?\" )\n",
        "if jedi_test == \"Yes\":\n",
        "  print(\"The character is a jedi.\")\n",
        "  color = input(\"Is the lightsaber red? \")\n",
        "  if color == \"Yes\":\n",
        "    print(\"The character is Darth Vader.\")\n",
        "else:\n",
        "  print(\"The character is not a jedi.\")\n"
      ],
      "metadata": {
        "id": "ULRM0iwnm5tP"
      },
      "execution_count": null,
      "outputs": []
    },
    {
      "cell_type": "code",
      "source": [],
      "metadata": {
        "id": "Y2g2aT-il-qV"
      },
      "execution_count": null,
      "outputs": []
    }
  ]
}
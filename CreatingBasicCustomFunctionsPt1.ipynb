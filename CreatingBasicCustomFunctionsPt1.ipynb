{
  "nbformat": 4,
  "nbformat_minor": 0,
  "metadata": {
    "colab": {
      "provenance": [],
      "authorship_tag": "ABX9TyO+pnuC3WI6utn+sQVGG3qy",
      "include_colab_link": true
    },
    "kernelspec": {
      "name": "python3",
      "display_name": "Python 3"
    },
    "language_info": {
      "name": "python"
    }
  },
  "cells": [
    {
      "cell_type": "markdown",
      "metadata": {
        "id": "view-in-github",
        "colab_type": "text"
      },
      "source": [
        "<a href=\"https://colab.research.google.com/github/natalieinTX/Python/blob/main/CreatingBasicCustomFunctionsPt1.ipynb\" target=\"_parent\"><img src=\"https://colab.research.google.com/assets/colab-badge.svg\" alt=\"Open In Colab\"/></a>"
      ]
    },
    {
      "cell_type": "code",
      "execution_count": null,
      "metadata": {
        "id": "Uy1YrkmNM-2y"
      },
      "outputs": [],
      "source": [
        "def your_name_function():\n",
        "  your_name = input(\"What is your name? \")\n",
        "  print(\"Your name is \"+your_name)\n",
        "your_name_function()\n",
        ""
      ]
    },
    {
      "cell_type": "code",
      "source": [],
      "metadata": {
        "id": "hDC0ZhWONgW4"
      },
      "execution_count": null,
      "outputs": []
    }
  ]
}
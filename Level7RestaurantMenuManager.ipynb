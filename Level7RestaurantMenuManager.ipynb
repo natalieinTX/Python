{
  "nbformat": 4,
  "nbformat_minor": 0,
  "metadata": {
    "colab": {
      "private_outputs": true,
      "provenance": [],
      "authorship_tag": "ABX9TyObgbbzmt6b5ErhicHzofZ4"
    },
    "kernelspec": {
      "name": "python3",
      "display_name": "Python 3"
    },
    "language_info": {
      "name": "python"
    }
  },
  "cells": [
    {
      "cell_type": "code",
      "execution_count": null,
      "metadata": {
        "id": "bA-B4PHecdOj"
      },
      "outputs": [],
      "source": [
        "menu = {\n",
        "    \"Burger\": (\"Main\", 10.5),\n",
        "    \"Soup\": (\"Appetizer\", 5.0),\n",
        "    \"Ice Cream\": (\"Dessert\", 6.0),\n",
        "    \"Salad\": (\"Appetizer, 6.0\"),\n",
        "}"
      ]
    },
    {
      "cell_type": "code",
      "source": [
        "menu['Steak'] = (\"Main\", 20.0)\n",
        "menu['Soda'] = (\"Drink\", 2.0)"
      ],
      "metadata": {
        "id": "u-gqI2ZldkIA"
      },
      "execution_count": null,
      "outputs": []
    },
    {
      "cell_type": "code",
      "source": [
        "menu.pop(\"Salad\")\n",
        "print(menu)"
      ],
      "metadata": {
        "id": "kUdo4YWDdwHe"
      },
      "execution_count": null,
      "outputs": []
    },
    {
      "cell_type": "code",
      "source": [
        "def display_menu(menu):\n",
        "  print(\"Menu:\")\n",
        "  for dish, info in menu.items():\n",
        "    print(\"Dish: \", dish, \"|  Category: \", info [0], \"Price: \", str(info[1]), \"$\")\n",
        "def count_dish_types(menu):\n",
        "  dish_per_category = {}\n",
        "\n",
        "\n",
        "  for dish, info in menu.items():\n",
        "    if info[0] in dish_per_category:\n",
        "      dish_per_category[info[0]] +=1\n",
        "    else:\n",
        "      dish_per_category[info[0]] = 1\n",
        "\n",
        "\n",
        "  return dish_per_category\n",
        "\n",
        "def update_price(menu, dish_name, new_price):\n",
        "\n",
        "  if dish_name in menu:\n",
        "    menu[dish_name] = (menu[dish_name][0], new_price)\n",
        "  else:\n",
        "    print(\"This dish does not exist.\")\n",
        "\n",
        "display_menu(menu)\n",
        "\n",
        "print(count_dish_types(menu))\n",
        "update_price(menu, \"Steak\", 500)\n",
        "display_menu(menu)\n",
        "update_price(menu, \"Weird Dish\", 1000)\n",
        "display_menu(menu)\n",
        "\n"
      ],
      "metadata": {
        "id": "JY74EeA5d5Sn"
      },
      "execution_count": null,
      "outputs": []
    }
  ]
}
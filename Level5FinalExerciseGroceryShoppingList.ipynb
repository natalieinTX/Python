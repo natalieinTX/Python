{
  "nbformat": 4,
  "nbformat_minor": 0,
  "metadata": {
    "colab": {
      "private_outputs": true,
      "provenance": [],
      "authorship_tag": "ABX9TyN0jLEZB6Vfe+t7kOIl/vyg"
    },
    "kernelspec": {
      "name": "python3",
      "display_name": "Python 3"
    },
    "language_info": {
      "name": "python"
    }
  },
  "cells": [
    {
      "cell_type": "code",
      "execution_count": null,
      "metadata": {
        "id": "fCQmUVJSg1vp"
      },
      "outputs": [],
      "source": [
        "shopping_list = [\"Milk\", \"Eggs\", \"Bread\", \"Bananas\"]\n",
        "shopping_list.append(\"Apples\")\n",
        "shopping_list.remove(\"Bread\")\n",
        "def show_list(shop_list):\n",
        "  for element in shop_list:\n",
        "    print(element)\n",
        "\n",
        "def show_list_v2(shopping_list):\n",
        "  print(shopping_list)\n",
        "\n",
        "def total_items(shopping_list):\n",
        "  return len(shopping_list)\n",
        "\n",
        "print(\"Your shopping list:\")\n",
        "\n",
        "show_list_v2(shopping_list)\n",
        "print(\"Total items:\", total_items(shopping_list))"
      ]
    },
    {
      "cell_type": "code",
      "source": [],
      "metadata": {
        "id": "2oKrDFH5iCPd"
      },
      "execution_count": null,
      "outputs": []
    }
  ]
}
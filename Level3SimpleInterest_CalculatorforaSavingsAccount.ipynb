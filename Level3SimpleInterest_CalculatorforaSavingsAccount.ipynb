{
  "nbformat": 4,
  "nbformat_minor": 0,
  "metadata": {
    "colab": {
      "provenance": [],
      "authorship_tag": "ABX9TyMVdAJhitZ2kdl/XT7NQeKk"
    },
    "kernelspec": {
      "name": "python3",
      "display_name": "Python 3"
    },
    "language_info": {
      "name": "python"
    }
  },
  "cells": [
    {
      "cell_type": "code",
      "execution_count": 2,
      "metadata": {
        "colab": {
          "base_uri": "https://localhost:8080/",
          "height": 0
        },
        "id": "a0QXU8NW6lKn",
        "outputId": "d469f435-ff13-4a18-b26d-7185b752f6f0"
      },
      "outputs": [
        {
          "output_type": "stream",
          "name": "stdout",
          "text": [
            "100.0\n"
          ]
        }
      ],
      "source": [
        "principal = 1000\n",
        "rate = 5\n",
        "time = 2\n",
        "interest = (principal * rate * time)/100\n",
        "print(interest)"
      ]
    }
  ]
}
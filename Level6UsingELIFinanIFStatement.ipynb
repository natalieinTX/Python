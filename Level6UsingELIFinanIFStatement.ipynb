{
  "nbformat": 4,
  "nbformat_minor": 0,
  "metadata": {
    "colab": {
      "private_outputs": true,
      "provenance": [],
      "authorship_tag": "ABX9TyONNKpnGP2I/zjylxL3z0ir"
    },
    "kernelspec": {
      "name": "python3",
      "display_name": "Python 3"
    },
    "language_info": {
      "name": "python"
    }
  },
  "cells": [
    {
      "cell_type": "code",
      "execution_count": null,
      "metadata": {
        "id": "AhWjTkkvqDlN"
      },
      "outputs": [],
      "source": [
        "army_size = input(\"How many characters are in the army? Please only enter 1, 2, or 3?\")\n",
        "if army_size == \"1\":\n",
        "  print(\"The army of 1 will lose to the army of 2 and the army of 3.\")\n",
        "elif army_size == \"2\":\n",
        "  print(\"The army of 2 will beat the army of 1, but lose to the army of 3.\")\n",
        "elif army_size == \"3\":\n",
        "  print(\"The army of 3 beats the army of 2 and the army of 1.\")\n",
        "#else:\n",
        "#   print(\"Please only enter 1, 2, or 3\")\n",
        "elif army_size != \"1\" or \"2\" or \"3\":\n",
        "  print(\"Please only enter 1, 2, or 3\")\n",
        "army_size =int(army_size)\n",
        "print(\"The cost of the army is \"+str(army_size*10))\n",
        "\n",
        "if army_size == 1 or army_size == 3:\n",
        "  print(\"There is an odd number of characters in the army that you selected.\")\n",
        "else:\n",
        "  print(\"There is an even number of characters in the army that you selected.\")\n",
        "\n",
        "good_or_not_good = input(\"Type good or not good\")\n",
        "\n",
        "if good_or_not_good ==\"good\" and army_size ==1:\n",
        "  print(\"You selecrted an army of 1 and C3PO, which is good.\")\n",
        "else:\n",
        "  print(\"You did not select an army size of 1 AND good.\")\n"
      ]
    },
    {
      "cell_type": "code",
      "source": [],
      "metadata": {
        "id": "-bzF3bC1ta6v"
      },
      "execution_count": null,
      "outputs": []
    },
    {
      "cell_type": "code",
      "source": [
        "select_team = input(\"Select Team 1, 2, or 3 \")\n",
        "if select_team == \"1\":\n",
        "  print(\"You picked Team 1, which has 1 character, Yoda.\")\n",
        "elif select_team == \"2\":\n",
        "  print(\"You picked Team 2, which has 2 characters, Jack and Rose.\")\n",
        "else:\n",
        "  print(\"You picked Team 3, which has 2 characters, Darth Vader and Leah.\")\n",
        "\n",
        "if select_team == \"1\" or select_team == \"3\":\n",
        "  print(\"The number of people on the team selected is odd.\")\n",
        "else:\n",
        "  print(\"The number of people on the team selected is even.\")"
      ],
      "metadata": {
        "id": "V3_USoQOr0GN"
      },
      "execution_count": null,
      "outputs": []
    }
  ]
}
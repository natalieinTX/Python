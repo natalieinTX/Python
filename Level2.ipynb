{
  "nbformat": 4,
  "nbformat_minor": 0,
  "metadata": {
    "colab": {
      "provenance": [],
      "authorship_tag": "ABX9TyMBn8Ne/jLr9J15DgchQU7J"
    },
    "kernelspec": {
      "name": "python3",
      "display_name": "Python 3"
    },
    "language_info": {
      "name": "python"
    }
  },
  "cells": [
    {
      "cell_type": "code",
      "execution_count": 6,
      "metadata": {
        "colab": {
          "base_uri": "https://localhost:8080/"
        },
        "id": "gaBNlRdZpeYR",
        "outputId": "c4677274-c618-4f4c-ed66-564bf5cbb661"
      },
      "outputs": [
        {
          "output_type": "stream",
          "name": "stdout",
          "text": [
            "Mr. Skywalker\n"
          ]
        }
      ],
      "source": [
        "# This code defines a name and then prints it\n",
        "name = str(\"Mr. Skywalker\")\n",
        "print(name)\n"
      ]
    }
  ]
}
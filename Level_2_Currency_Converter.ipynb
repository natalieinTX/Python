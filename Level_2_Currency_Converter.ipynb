{
  "nbformat": 4,
  "nbformat_minor": 0,
  "metadata": {
    "colab": {
      "provenance": [],
      "authorship_tag": "ABX9TyPXSaInAPlxZzx9vdYJotPv"
    },
    "kernelspec": {
      "name": "python3",
      "display_name": "Python 3"
    },
    "language_info": {
      "name": "python"
    }
  },
  "cells": [
    {
      "cell_type": "code",
      "execution_count": 8,
      "metadata": {
        "colab": {
          "base_uri": "https://localhost:8080/"
        },
        "id": "MyWgWNjCyiQ-",
        "outputId": "2551baf1-54be-43e6-cdee-366d1505361b"
      },
      "outputs": [
        {
          "output_type": "stream",
          "name": "stdout",
          "text": [
            "The amount in EUR is 85\n"
          ]
        }
      ],
      "source": [
        "usd_amount = 100\n",
        "exchange_rate = 0.85\n",
        "eur_amount = usd_amount * exchange_rate\n",
        "eur_amount= int(eur_amount)\n",
        "print(\"The amount in EUR is\", eur_amount)\n"
      ]
    }
  ]
}
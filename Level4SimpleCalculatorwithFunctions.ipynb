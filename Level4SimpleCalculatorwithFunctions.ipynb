{
  "nbformat": 4,
  "nbformat_minor": 0,
  "metadata": {
    "colab": {
      "provenance": [],
      "authorship_tag": "ABX9TyOQ5S4MctSfrOCsecvCzOtG"
    },
    "kernelspec": {
      "name": "python3",
      "display_name": "Python 3"
    },
    "language_info": {
      "name": "python"
    }
  },
  "cells": [
    {
      "cell_type": "code",
      "execution_count": 12,
      "metadata": {
        "colab": {
          "base_uri": "https://localhost:8080/"
        },
        "id": "EUyVL31-Y2in",
        "outputId": "cefa9590-9d2c-41e0-ce99-287406ec8de8"
      },
      "outputs": [
        {
          "output_type": "stream",
          "name": "stdout",
          "text": [
            "Enter the first number: 10\n",
            "Enter the second number: 5\n",
            "Enter an operator (+, -, *, /):/\n",
            "The result is: 2.0\n"
          ]
        }
      ],
      "source": [
        "def add(a, b):\n",
        "  return a + b\n",
        "\n",
        "def subtract(a, b):\n",
        "  return a - b\n",
        "\n",
        "def multiply(a, b):\n",
        "  return a * b\n",
        "\n",
        "def divide(a, b):\n",
        "  return a / b\n",
        "\n",
        "num1 = float(input(\"Enter the first number: \"))\n",
        "num2 = float(input(\"Enter the second number: \"))\n",
        "\n",
        "operator = input(\"Enter an operator (+, -, *, /):\")\n",
        "\n",
        "if operator == '+':\n",
        "    print(\"The result is:\", add(num1, num2))\n",
        "elif operator == '-':\n",
        "    print(\"The result is:\", subtract(num1, num2))\n",
        "elif operator == '*':\n",
        "    print(\"The result is:\", multiply(num1, num2))\n",
        "elif operator == '/':\n",
        "    print(\"The result is:\", divide(num1, num2))\n"
      ]
    },
    {
      "cell_type": "code",
      "source": [],
      "metadata": {
        "id": "UngZYaMlcFcl"
      },
      "execution_count": null,
      "outputs": []
    }
  ]
}
{
  "nbformat": 4,
  "nbformat_minor": 0,
  "metadata": {
    "colab": {
      "provenance": [],
      "authorship_tag": "ABX9TyOSj5W/pMAu3HvkwfeB/YIi",
      "include_colab_link": true
    },
    "kernelspec": {
      "name": "python3",
      "display_name": "Python 3"
    },
    "language_info": {
      "name": "python"
    }
  },
  "cells": [
    {
      "cell_type": "markdown",
      "metadata": {
        "id": "view-in-github",
        "colab_type": "text"
      },
      "source": [
        "<a href=\"https://colab.research.google.com/github/natalieinTX/Python/blob/main/Level3MeaningOperators.ipynb\" target=\"_parent\"><img src=\"https://colab.research.google.com/assets/colab-badge.svg\" alt=\"Open In Colab\"/></a>"
      ]
    },
    {
      "cell_type": "code",
      "execution_count": 2,
      "metadata": {
        "colab": {
          "base_uri": "https://localhost:8080/"
        },
        "id": "oU2JBNrq1b_u",
        "outputId": "6b938945-837f-47f7-ed07-5ea0d795068a"
      },
      "outputs": [
        {
          "output_type": "stream",
          "name": "stdout",
          "text": [
            "90.8\n"
          ]
        }
      ],
      "source": [
        "age = 44.4\n",
        "print((age+1)*2)"
      ]
    },
    {
      "cell_type": "code",
      "source": [
        "ahsoka_height = float(1.7)\n",
        "yoda_height = float(0.66)\n",
        "r2d2_height = float(1.09)\n",
        "c3po_height = float(1.75)\n",
        "print((ahsoka_height + yoda_height + r2d2_height + c3po_height)/4)"
      ],
      "metadata": {
        "colab": {
          "base_uri": "https://localhost:8080/"
        },
        "id": "5QLfrxI_2YZL",
        "outputId": "89a13366-8f38-42dd-b667-0098e91216c4"
      },
      "execution_count": 4,
      "outputs": [
        {
          "output_type": "stream",
          "name": "stdout",
          "text": [
            "1.3\n"
          ]
        }
      ]
    }
  ]
}
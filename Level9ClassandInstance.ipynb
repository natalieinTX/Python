{
  "nbformat": 4,
  "nbformat_minor": 0,
  "metadata": {
    "colab": {
      "private_outputs": true,
      "provenance": [],
      "authorship_tag": "ABX9TyMfLh4bRcGLQmHAopfurD8M"
    },
    "kernelspec": {
      "name": "python3",
      "display_name": "Python 3"
    },
    "language_info": {
      "name": "python"
    }
  },
  "cells": [
    {
      "cell_type": "code",
      "execution_count": null,
      "metadata": {
        "id": "XTAlENx2ZPmM"
      },
      "outputs": [],
      "source": [
        "class Person:\n",
        "\n",
        "  def __init__(self, name, age):\n",
        "    print(\"My name is :\", name, \"And I am this old: \", age)"
      ]
    },
    {
      "cell_type": "code",
      "source": [
        "person1 = Person(\"John Doe\", 55)\n"
      ],
      "metadata": {
        "id": "udE9KhlrZoku"
      },
      "execution_count": null,
      "outputs": []
    },
    {
      "cell_type": "code",
      "source": [],
      "metadata": {
        "id": "0fmZlRrsZxnp"
      },
      "execution_count": null,
      "outputs": []
    }
  ]
}
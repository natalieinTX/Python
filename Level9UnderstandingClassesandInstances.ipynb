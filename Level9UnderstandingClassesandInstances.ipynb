{
  "nbformat": 4,
  "nbformat_minor": 0,
  "metadata": {
    "colab": {
      "private_outputs": true,
      "provenance": [],
      "authorship_tag": "ABX9TyNkFqabStCU4Vy9BnRQCqPn"
    },
    "kernelspec": {
      "name": "python3",
      "display_name": "Python 3"
    },
    "language_info": {
      "name": "python"
    }
  },
  "cells": [
    {
      "cell_type": "code",
      "execution_count": null,
      "metadata": {
        "id": "ykH123uN1-cX"
      },
      "outputs": [],
      "source": [
        "class Dog():\n",
        "\n",
        "  def __init__(self, name):\n",
        "    print(\"Hey! I am a dog! :)\")\n",
        "    print(\"My name is: \", name)"
      ]
    },
    {
      "cell_type": "code",
      "source": [
        "dog1 = Dog()\n",
        "dog2 = Dog()\n"
      ],
      "metadata": {
        "id": "We7M886VVlez"
      },
      "execution_count": null,
      "outputs": []
    },
    {
      "cell_type": "code",
      "source": [
        "type = Dog"
      ],
      "metadata": {
        "id": "ic5MTPTJVt5n"
      },
      "execution_count": null,
      "outputs": []
    },
    {
      "cell_type": "code",
      "source": [],
      "metadata": {
        "id": "xWEXYHGLV7aN"
      },
      "execution_count": null,
      "outputs": []
    },
    {
      "cell_type": "code",
      "source": [
        "dog1 = Dog(\"John\")\n",
        "dog2 = Dog(\"Mark\")"
      ],
      "metadata": {
        "id": "ZJWmabt6UhO-"
      },
      "execution_count": null,
      "outputs": []
    },
    {
      "cell_type": "code",
      "source": [],
      "metadata": {
        "id": "Z4sclhfsHU7r"
      },
      "execution_count": null,
      "outputs": []
    }
  ]
}
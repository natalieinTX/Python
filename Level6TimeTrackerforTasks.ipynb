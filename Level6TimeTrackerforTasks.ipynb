{
  "nbformat": 4,
  "nbformat_minor": 0,
  "metadata": {
    "colab": {
      "private_outputs": true,
      "provenance": [],
      "authorship_tag": "ABX9TyPRXZzP9Vbh0bZISHFyVEyn"
    },
    "kernelspec": {
      "name": "python3",
      "display_name": "Python 3"
    },
    "language_info": {
      "name": "python"
    }
  },
  "cells": [
    {
      "cell_type": "code",
      "execution_count": null,
      "metadata": {
        "id": "Db5UBRaW-rtY"
      },
      "outputs": [],
      "source": [
        "tasks = [\"planning\", \"design\", \"coding\", \"testing\"]\n",
        "time_spend = [0, 0, 0, 0]\n",
        "\n",
        "def log_time(task, time):\n",
        "  for t in range(len(tasks)):\n",
        "    if tasks[t] == task:\n",
        "      time_spend[t] += time\n",
        "while True:\n",
        "  print(\"Tasks: \", tasks)\n",
        "  task = input(\"Enter a task to log time for it / or enter exit to stop the program.\").strip().lower\n",
        "\n",
        "if task == \"exit\":\n",
        "  break\n",
        "else:\n",
        "  if task in tasks:\n",
        "    time = float(input(\"How many hours did you spend on this task?\"))\n",
        "    log_time(task, time)\n",
        "  else:\n",
        "    print(\"Oops! We couldn't find that task, please try again.\")\n",
        "\n",
        "for i in range (len(tasks)):\n",
        "\n",
        "  print(\"Task: \", tasks[i], \"Hours spent: \", time_spend[i])"
      ]
    }
  ]
}
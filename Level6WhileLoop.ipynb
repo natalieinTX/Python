{
  "nbformat": 4,
  "nbformat_minor": 0,
  "metadata": {
    "colab": {
      "private_outputs": true,
      "provenance": [],
      "authorship_tag": "ABX9TyMGHF9jmteh5nPc4PXgRYPB"
    },
    "kernelspec": {
      "name": "python3",
      "display_name": "Python 3"
    },
    "language_info": {
      "name": "python"
    }
  },
  "cells": [
    {
      "cell_type": "code",
      "execution_count": null,
      "metadata": {
        "id": "zHwKAxmJ7z9c"
      },
      "outputs": [],
      "source": [
        "baby_yoda_age =50\n",
        "while baby_yoda_age <= 100:\n",
        "  print(\"You cannot use the lightsaber until you are 100. You are currently \"+str(baby_yoda_age))\n",
        "  baby_yoda_age = int(baby_yoda_age)+1\n",
        ""
      ]
    },
    {
      "cell_type": "code",
      "source": [
        "year = 1912\n",
        "while year <1985:\n",
        "  print(\"The year is \" + str(year)+\" and nobody has found the Titanic yet.\")\n",
        "  year = year +1\n"
      ],
      "metadata": {
        "id": "SHjEEytO9NfY"
      },
      "execution_count": null,
      "outputs": []
    }
  ]
}
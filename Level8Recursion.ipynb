{
  "nbformat": 4,
  "nbformat_minor": 0,
  "metadata": {
    "colab": {
      "private_outputs": true,
      "provenance": [],
      "authorship_tag": "ABX9TyNwTBlmMJBeki3uEiHGp1pf"
    },
    "kernelspec": {
      "name": "python3",
      "display_name": "Python 3"
    },
    "language_info": {
      "name": "python"
    }
  },
  "cells": [
    {
      "cell_type": "code",
      "execution_count": null,
      "metadata": {
        "id": "ezz3cTm8slpr"
      },
      "outputs": [],
      "source": [
        "# n! -> 10 -> 10*9*8*....*1\n",
        "# 1! -> 1\n",
        "# 0! -> 1\n",
        "\n",
        "def factorial(n):\n",
        "\n",
        "  if n == 0:\n",
        "    return 1\n",
        "  else:\n",
        "    return n * factorial(n-1)\n",
        "\n",
        "# f(5) -> 120\n",
        "# -> 5 == 0? > NO\n",
        "# else: 5 * f(4) => 5 * 24 = 120\n",
        "# -> 4 == 0? > NO\n",
        "# else: 4 * f(3) => 4 * 6 = 24\n",
        "# -> 3 == 0? > NO\n",
        "# else: 2 * f(2) => 3 * 2 = 6\n",
        "# -> 2 == 0 > NO\n",
        "# else: 2 * f(1) => 2 * 1 = 2\n",
        "# -> 1 == 0 > NO\n",
        "# else: 1 * f(0) => 1 * 1 = 1\n",
        "# -> 0 == 0 > YES, RETURN 1"
      ]
    },
    {
      "cell_type": "code",
      "source": [
        "factorial(5)"
      ],
      "metadata": {
        "id": "cei4fVgrt_wf"
      },
      "execution_count": null,
      "outputs": []
    },
    {
      "cell_type": "code",
      "source": [
        "print(5*4*3*2*1)"
      ],
      "metadata": {
        "id": "dP_sGwQuuCL5"
      },
      "execution_count": null,
      "outputs": []
    }
  ]
}
{
  "nbformat": 4,
  "nbformat_minor": 0,
  "metadata": {
    "colab": {
      "private_outputs": true,
      "provenance": [],
      "authorship_tag": "ABX9TyN+Xbmp3aImrG5X+QF/lG0D"
    },
    "kernelspec": {
      "name": "python3",
      "display_name": "Python 3"
    },
    "language_info": {
      "name": "python"
    }
  },
  "cells": [
    {
      "cell_type": "code",
      "source": [
        "example_list = [1, 2, 3, 4, 5]"
      ],
      "metadata": {
        "id": "hdxtH9qOqmKh"
      },
      "execution_count": null,
      "outputs": []
    },
    {
      "cell_type": "code",
      "source": [
        "def square(x):\n",
        "  return x**2\n"
      ],
      "metadata": {
        "id": "4CQLxDseq2Wz"
      },
      "execution_count": null,
      "outputs": []
    },
    {
      "cell_type": "code",
      "source": [
        "new_list = []\n",
        "for i in range(len(example_list)):\n",
        "  new_list.append(square(example_list[i]))"
      ],
      "metadata": {
        "id": "ppsHZwIfq7vy"
      },
      "execution_count": null,
      "outputs": []
    },
    {
      "cell_type": "code",
      "source": [
        "new_list"
      ],
      "metadata": {
        "id": "3BZmvvtXrMap"
      },
      "execution_count": null,
      "outputs": []
    },
    {
      "cell_type": "code",
      "source": [
        "list(map(lambda x: x**2, example_list))"
      ],
      "metadata": {
        "id": "-n74lvhlrYgj"
      },
      "execution_count": null,
      "outputs": []
    },
    {
      "cell_type": "code",
      "source": [
        "second_list = [(1, 2, 3), (4, 5, 6)]\n",
        "list(map(lambda x:x[0]+x[1]+x[2], second_list))"
      ],
      "metadata": {
        "id": "-7TFHxntrr_1"
      },
      "execution_count": null,
      "outputs": []
    }
  ]
}
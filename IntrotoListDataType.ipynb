{
  "nbformat": 4,
  "nbformat_minor": 0,
  "metadata": {
    "colab": {
      "provenance": [],
      "authorship_tag": "ABX9TyMEgE9l2Pz5FvLMuyU6h4Hx"
    },
    "kernelspec": {
      "name": "python3",
      "display_name": "Python 3"
    },
    "language_info": {
      "name": "python"
    }
  },
  "cells": [
    {
      "cell_type": "code",
      "execution_count": 4,
      "metadata": {
        "colab": {
          "base_uri": "https://localhost:8080/",
          "height": 0
        },
        "id": "mIA62cEzeQAG",
        "outputId": "1af01c1f-2ea6-42fa-d2b4-6ec3943d9de0"
      },
      "outputs": [
        {
          "output_type": "stream",
          "name": "stdout",
          "text": [
            "30\n",
            "<class 'list'>\n"
          ]
        }
      ],
      "source": [
        "boba_fett_experience = 20\n",
        "storm_trooper_experience = 10\n",
        "experience = [boba_fett_experience,storm_trooper_experience]\n",
        "total_experience =sum(experience)\n",
        "print(total_experience)\n",
        "print(type(experience))"
      ]
    },
    {
      "cell_type": "code",
      "source": [
        "# create our list_of_years_experience\n",
        "list_of_years_experience =[20,30]\n",
        "\n",
        "# check to see what data type list_of_years_experience is\n",
        "print(type(list_of_years_experience))\n",
        "\n",
        "#creat a variable called sum_of_list\n",
        "sum_of_list = sum(list_of_years_experience)\n",
        "\n",
        "# print the sum_of_list\n",
        "print(sum_of_list)\n"
      ],
      "metadata": {
        "colab": {
          "base_uri": "https://localhost:8080/",
          "height": 0
        },
        "id": "HHeOMyFwgXyL",
        "outputId": "ad5ea96b-bce8-4f6f-cf3c-60c71065091c"
      },
      "execution_count": 6,
      "outputs": [
        {
          "output_type": "stream",
          "name": "stdout",
          "text": [
            "<class 'list'>\n",
            "50\n"
          ]
        }
      ]
    }
  ]
}